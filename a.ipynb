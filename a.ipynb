{
 "cells": [
  {
   "cell_type": "code",
   "execution_count": 7,
   "metadata": {},
   "outputs": [],
   "source": [
    "import re\n",
    "from bs4 import BeautifulSoup"
   ]
  },
  {
   "cell_type": "code",
   "execution_count": 62,
   "metadata": {},
   "outputs": [
    {
     "name": "stdout",
     "output_type": "stream",
     "text": [
      "<re.Match object; span=(195631, 195640), match='>Item 1A.'>\n",
      "<re.Match object; span=(196980, 196989), match='>Item 1B.'>\n",
      "<re.Match object; span=(205807, 205815), match='>Item 7.'>\n",
      "<re.Match object; span=(207285, 207294), match='>Item 7A.'>\n",
      "<re.Match object; span=(208731, 208739), match='>Item 8.'>\n",
      "<re.Match object; span=(267283, 267292), match='>Item 1A.'>\n",
      "<re.Match object; span=(366082, 366091), match='>Item 1B.'>\n",
      "<re.Match object; span=(410810, 410818), match='>Item 7.'>\n",
      "<re.Match object; span=(541728, 541737), match='>Item 7A.'>\n",
      "<re.Match object; span=(551596, 551604), match='>Item 8.'>\n"
     ]
    }
   ],
   "source": [
    "file_path = \"sec-edgar-filings/AAPL/10-K/0000320193-22-000108/full-submission.txt\"\n",
    "with open(file_path, \"r\", encoding=\"utf-8\") as file:\n",
    "        content = file.read()\n",
    "\n",
    "regex = re.compile(r'(>Item(\\s|&#160;|&nbsp;)(1A|1B|7A|7|8)\\.{0,1})|(ITEM\\s(1A|1B|7A|7|8))')\n",
    "# Use finditer to math the regex\n",
    "matches = regex.finditer(content)\n",
    "\n",
    "# Write a for loop to print the matches\n",
    "for match in matches:\n",
    "    print(match)"
   ]
  },
  {
   "cell_type": "code",
   "execution_count": 77,
   "metadata": {},
   "outputs": [],
   "source": [
    "import pandas as pd\n",
    "def extract_sections(file_path):\n",
    "        with open(file_path, \"r\", encoding=\"utf-8\") as file:\n",
    "            content = file.read()\n",
    "\n",
    "        regex = re.compile(r'(>Item(\\s|&#160;|&nbsp;)(1A|1B|7A|7|8)\\.{0,1})|(ITEM\\s(1A|1B|7A|7|8))')\n",
    "        matches = list(regex.finditer(content))\n",
    "        sections = [(match.group(), match.start()) for match in matches]\n",
    "\n",
    "        df = pd.DataFrame(sections, columns=[\"Item\", \"Start\"])\n",
    "        df[\"End\"] = df[\"Start\"].shift(-1, fill_value=len(content))\n",
    "        # Clean up the \"Item\" column to match the desired format\n",
    "        df[\"Item\"] = df[\"Item\"].apply(lambda x: re.sub(r'(>|&nbsp;|\\s|&#160;|\\.|ITEM)', '', x).upper())\n",
    "        df[\"Item\"] = df[\"Item\"].apply(lambda x: x)\n",
    "\n",
    "        # Keep only the last appearance of each item\n",
    "        unique_items = df[\"Item\"].unique()\n",
    "        final_sections = []\n",
    "        for item in unique_items:\n",
    "            latest_match = df[df[\"Item\"] == item].iloc[-1]\n",
    "            final_sections.append(latest_match)\n",
    "\n",
    "        result_df = pd.DataFrame(final_sections)\n",
    "        return result_df.reset_index(drop=True)"
   ]
  },
  {
   "cell_type": "code",
   "execution_count": 78,
   "metadata": {},
   "outputs": [
    {
     "data": {
      "text/html": [
       "<div>\n",
       "<style scoped>\n",
       "    .dataframe tbody tr th:only-of-type {\n",
       "        vertical-align: middle;\n",
       "    }\n",
       "\n",
       "    .dataframe tbody tr th {\n",
       "        vertical-align: top;\n",
       "    }\n",
       "\n",
       "    .dataframe thead th {\n",
       "        text-align: right;\n",
       "    }\n",
       "</style>\n",
       "<table border=\"1\" class=\"dataframe\">\n",
       "  <thead>\n",
       "    <tr style=\"text-align: right;\">\n",
       "      <th></th>\n",
       "      <th>Item</th>\n",
       "      <th>Start</th>\n",
       "      <th>End</th>\n",
       "    </tr>\n",
       "  </thead>\n",
       "  <tbody>\n",
       "    <tr>\n",
       "      <th>0</th>\n",
       "      <td>ITEM1A</td>\n",
       "      <td>267283</td>\n",
       "      <td>366082</td>\n",
       "    </tr>\n",
       "    <tr>\n",
       "      <th>1</th>\n",
       "      <td>ITEM1B</td>\n",
       "      <td>366082</td>\n",
       "      <td>410810</td>\n",
       "    </tr>\n",
       "    <tr>\n",
       "      <th>2</th>\n",
       "      <td>ITEM7</td>\n",
       "      <td>410810</td>\n",
       "      <td>541728</td>\n",
       "    </tr>\n",
       "    <tr>\n",
       "      <th>3</th>\n",
       "      <td>ITEM7A</td>\n",
       "      <td>541728</td>\n",
       "      <td>551596</td>\n",
       "    </tr>\n",
       "    <tr>\n",
       "      <th>4</th>\n",
       "      <td>ITEM8</td>\n",
       "      <td>551596</td>\n",
       "      <td>10332356</td>\n",
       "    </tr>\n",
       "  </tbody>\n",
       "</table>\n",
       "</div>"
      ],
      "text/plain": [
       "     Item   Start       End\n",
       "0  ITEM1A  267283    366082\n",
       "1  ITEM1B  366082    410810\n",
       "2   ITEM7  410810    541728\n",
       "3  ITEM7A  541728    551596\n",
       "4   ITEM8  551596  10332356"
      ]
     },
     "execution_count": 78,
     "metadata": {},
     "output_type": "execute_result"
    }
   ],
   "source": [
    "extract_sections(\"sec-edgar-filings/AAPL/10-K/0000320193-22-000108/full-submission.txt\")"
   ]
  },
  {
   "cell_type": "code",
   "execution_count": 29,
   "metadata": {},
   "outputs": [
    {
     "data": {
      "text/plain": [
       "'>Item 1A. </font></div></td><td style=\"vertical-align:top;\"><div style=\"line-height:120%;text-align:justify;font-size:9pt;\"><font style=\"font-family:Helvetica,sans-serif;font-size:9pt;font-weight:bold;\">Risk Factors</font></div></td></tr></table><div sty'"
      ]
     },
     "execution_count": 29,
     "metadata": {},
     "output_type": "execute_result"
    }
   ],
   "source": []
  },
  {
   "cell_type": "code",
   "execution_count": 21,
   "metadata": {},
   "outputs": [
    {
     "data": {
      "text/plain": [
       "60566"
      ]
     },
     "execution_count": 21,
     "metadata": {},
     "output_type": "execute_result"
    }
   ],
   "source": [
    "raw_7 = BeautifulSoup(content[365684: 793246], 'html')\n",
    "raw_7_true = raw_7.get_text(\"\\n\\n\")\n",
    "cleaned_text_re = re.sub(r'\\s+', ' ', raw_7_true).strip()\n",
    "\n",
    "# Clean up the text using split and join\n",
    "cleaned_7 = ' '.join(cleaned_text_re.split())\n",
    "len(cleaned_7)"
   ]
  }
 ],
 "metadata": {
  "kernelspec": {
   "display_name": "Python 3",
   "language": "python",
   "name": "python3"
  },
  "language_info": {
   "codemirror_mode": {
    "name": "ipython",
    "version": 3
   },
   "file_extension": ".py",
   "mimetype": "text/x-python",
   "name": "python",
   "nbconvert_exporter": "python",
   "pygments_lexer": "ipython3",
   "version": "3.12.2"
  }
 },
 "nbformat": 4,
 "nbformat_minor": 2
}
